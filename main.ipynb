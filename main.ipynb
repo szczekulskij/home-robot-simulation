{
 "cells": [
  {
   "cell_type": "markdown",
   "metadata": {},
   "source": [
    "# Notes for myself\n",
    "## Coding up will be sth like:\n",
    "1. Step 1 - generate simulation in 2d continuous space (mesh points) (easyish but also it is me so probably very very hard)\n",
    "* Parameters:\n",
    "    * nr tables\n",
    "    * nr objects\n",
    "    * nr objects per table?\n",
    "    * tables_shape - \"rectangle, non-rectangle\n",
    "    * rooms? walls?\n",
    "    * shape of objects ?\n",
    "    * Assume always the same size of the room. Add parameter for the scale of the room - that's gonna have a massive impact on the computational power - wish my brain was as massive but that is for another day\n",
    "2. Step 2 - graph the simulation (how?)\n",
    "* raaaaaaah, here is your answer to how:\n",
    "* we get a pen and paper\n",
    "* we also get a ruler cos we gotta draw dem lines straight yo\n",
    "* draw two straight lines parallel to paper. call them x and y. doesn't matter which is which. if anyone complains tell them to rotate the paper\n",
    "* draw another straight line in any angle. We call it z. This doesn't do anything but seems like we are doing some PhD math...\n",
    "* draw some squiggly lines in different colours\n",
    "* different colours for all following:\n",
    "    * robot\n",
    "    * tables\n",
    "    * object (sub-different colours fot different shapes?)\n",
    "    * generated trajectory?\n",
    "    * crazy\n",
    "    * hotness (if you know you know)\n",
    "4. Step 4 - implement ORLA* and test in the environment\n",
    "5. \n",
    "\n",
    "\n",
    "The logic can be thought as roughly this while-loop:\n",
    "\n",
    "0. a. while I exist\n",
    "0. b. I continue to exist.\n"
   ]
  },
  {
   "cell_type": "code",
   "execution_count": 1,
   "metadata": {},
   "outputs": [],
   "source": [
    "import numpy as np"
   ]
  },
  {
   "cell_type": "code",
   "execution_count": null,
   "metadata": {},
   "outputs": [],
   "source": []
  }
 ],
 "metadata": {
  "kernelspec": {
   "display_name": "Python 3",
   "language": "python",
   "name": "python3"
  },
  "language_info": {
   "codemirror_mode": {
    "name": "ipython",
    "version": 3
   },
   "file_extension": ".py",
   "mimetype": "text/x-python",
   "name": "python",
   "nbconvert_exporter": "python",
   "pygments_lexer": "ipython3",
   "version": "3.10.9"
  }
 },
 "nbformat": 4,
 "nbformat_minor": 2
}
